{
  "cells": [
    {
      "cell_type": "markdown",
      "metadata": {
        "id": "view-in-github",
        "colab_type": "text"
      },
      "source": [
        "<a href=\"https://colab.research.google.com/github/vagnerpereirablue/testecolab/blob/main/InsertInfluxMinutos.ipynb\" target=\"_parent\"><img src=\"https://colab.research.google.com/assets/colab-badge.svg\" alt=\"Open In Colab\"/></a>"
      ]
    },
    {
      "cell_type": "code",
      "execution_count": null,
      "metadata": {
        "id": "NVzF2ChmubYL"
      },
      "outputs": [],
      "source": [
        "!pip install influxdb"
      ]
    },
    {
      "cell_type": "code",
      "execution_count": null,
      "metadata": {
        "id": "0wloLN3XK5Kc"
      },
      "outputs": [],
      "source": [
        "from influxdb import InfluxDBClient\n",
        "from datetime import datetime\n",
        "from random import randrange, uniform\n",
        "import random\n",
        "import string\n",
        "import time\n",
        "import warnings\n",
        "warnings.filterwarnings('ignore')\n",
        "\n",
        "while(True):\n",
        "    db_influx =InfluxDBClient(host='localhost',port=8086, ssl=False, verify_ssl=False)\n"
        "    db_influx.switch_database('dbBitSaas')\n",
        "    measurement = 'measMLMinuto'\n",
        "\n",
        "    telemetry = [\n",
        "        {\"nmDevice\":\"device\",\"nmEquipment\":\"PTZ\",\"nmSensor\":\"Tag_Test_Ptz\",\"tagId\":13,\"tpCollector\":\"Modbus\",\"tpSensor\":\"Teste_PTZ\"}\n",
        "    \n",
        "    ]\n",
        "    def value_alarm(value):\n",
        "            if value <= 55:\n",
        "                return False\n",
        "            else:\n",
        "                return True\n",
        "    def id_generator(size=6, chars=string.ascii_uppercase + string.digits):\n",
        "        return ''.join(random.choice(chars) for _ in range(size))\n",
        "        \n",
        "    t1 =   1672167600# Quarta-feira, 1 de junho de 2022 13:00:00  15min = 900.000\n",
        "    while t1 < 1682167600: #08/09/2022\n",
        "        listjson = []\n",
        "        for tag in telemetry:\n",
        "            value = random.randint(18,32)\n",
        "            #dicionario_influx = {\"measurement\": measurement, \"fields\": {\"value\": value}, \"tags\": {}, \"time\": t1}\n",
        "            json_body = [{\n",
        "                \"measurement\":measurement,\n",
        "                \"tags\": {\n",
        "                    \"nmDevice\": tag[\"nmDevice\"],\n",
        "                    \"alarmValue\":value_alarm(value),\n",
        "                    \"nmSensor\": tag[\"nmSensor\"],\n",
        "                    \"tagId\": tag[\"tagId\"],\n",
        "                    \"nmEquipament\":tag[\"nmEquipment\"],\n",
        "                    \"tpSensor\":tag[\"tpSensor\"],\n",
        "                    \"tpCollector\":tag['tpCollector'],\n",
        "\n",
        "                },\n",
        "                \"fields\":{\"value\":value}\n",
        "                \n",
        "                \n",
        "            }]\n",
        "            \n",
        "                    \n",
        "            \n",
        "        db_influx.write_points(json_body) \n",
        "        #t1 += 900    \n",
        "    time.sleep(60)"
      ]
    },
    {
      "cell_type": "code",
      "source": [
        "from datetime import datetime\n",
        "\n",
        "# Convert the Unix timestamp to a datetime object\n",
        "timestamp = 1672164000 #1663849891\n",
        "dt_object = datetime.fromtimestamp(timestamp)\n",
        "\n",
        "# Format the datetime object as a string in the desired format\n",
        "date_time_str = dt_object.strftime('%Y-%m-%d %H:%M:%S')\n",
        "print(date_time_str)\n"
      ],
      "metadata": {
        "colab": {
          "base_uri": "https://localhost:8080/"
        },
        "id": "zoYgjXFh6-TZ",
        "outputId": "3a9ba44f-dbce-4ae3-95eb-3acfe0fddb3b"
      },
      "execution_count": 21,
      "outputs": [
        {
          "output_type": "stream",
          "name": "stdout",
          "text": [
            "2022-12-27 18:00:00\n"
          ]
        }
      ]
    },
    {
      "cell_type": "code",
      "execution_count": 24,
      "metadata": {
        "id": "ZoIbdbBioE9j",
        "colab": {
          "base_uri": "https://localhost:8080/"
        },
        "outputId": "107584f1-e0ba-4500-ff47-11b41238e0af"
      },
      "outputs": [
        {
          "output_type": "stream",
          "name": "stdout",
          "text": [
            "Digite o intervalo de tempo27/12/2022\n",
            "O dispositivo escolhido foi 27/12/2022 :\n"
          ]
        }
      ],
      "source": [
        "def tempo_escolhido():\n",
        "      tempo_escolhido =str(input('Digite o intervalo de tempo'))\n",
        "      return  tempo_escolhido\n",
        "escolhido = tempo_escolhido()\n",
        "print(f'O dispositivo escolhido foi {escolhido} :')  "
      ]
    }
  ],
  "metadata": {
    "colab": {
      "provenance": [],
      "authorship_tag": "ABX9TyMTvPfV7wQxizj4c6Lo2RHG",
      "include_colab_link": true
    },
    "kernelspec": {
      "display_name": "Python 3",
      "name": "python3"
    },
    "language_info": {
      "name": "python"
    }
  },
  "nbformat": 4,
  "nbformat_minor": 0
}
