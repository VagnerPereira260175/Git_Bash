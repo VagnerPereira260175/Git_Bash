{
  "nbformat": 4,
  "nbformat_minor": 0,
  "metadata": {
    "colab": {
      "provenance": [],
      "authorship_tag": "ABX9TyNCKtmtjcQBTko8bOhWvJge",
      "include_colab_link": true
    },
    "kernelspec": {
      "name": "python3",
      "display_name": "Python 3"
    },
    "language_info": {
      "name": "python"
    }
  },
  "cells": [
    {
      "cell_type": "markdown",
      "metadata": {
        "id": "view-in-github",
        "colab_type": "text"
      },
      "source": [
        "<a href=\"https://colab.research.google.com/github/vagnerpereirablue/testecolab/blob/main/geradormegasena.ipynb\" target=\"_parent\"><img src=\"https://colab.research.google.com/assets/colab-badge.svg\" alt=\"Open In Colab\"/></a>"
      ]
    },
    {
      "cell_type": "code",
      "execution_count": 1,
      "metadata": {
        "colab": {
          "base_uri": "https://localhost:8080/"
        },
        "id": "-z7q6ciAgKct",
        "outputId": "22c8e05a-a44e-40e1-d3c7-5e79d90008b0"
      },
      "outputs": [
        {
          "output_type": "stream",
          "name": "stdout",
          "text": [
            "[47, 1, 6, 4, 35, 46]\n"
          ]
        }
      ],
      "source": [
        "import random\n",
        "numbers = []\n",
        "while len(numbers) < 6:\n",
        "    number = random.randint(1, 60)\n",
        "    if number not in numbers:\n",
        "        numbers.append(number)\n",
        "print(numbers)\n"
      ]
    }
  ]
}